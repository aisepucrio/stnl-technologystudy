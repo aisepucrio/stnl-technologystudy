{
 "cells": [
  {
   "cell_type": "code",
   "execution_count": 99,
   "metadata": {},
   "outputs": [],
   "source": [
    "import pandas as pd"
   ]
  },
  {
   "cell_type": "code",
   "execution_count": 100,
   "metadata": {},
   "outputs": [],
   "source": [
    "dados = pd.read_csv('emp_automovel.csv')"
   ]
  },
  {
   "cell_type": "code",
   "execution_count": 101,
   "metadata": {},
   "outputs": [
    {
     "data": {
      "text/html": [
       "<div>\n",
       "<style scoped>\n",
       "    .dataframe tbody tr th:only-of-type {\n",
       "        vertical-align: middle;\n",
       "    }\n",
       "\n",
       "    .dataframe tbody tr th {\n",
       "        vertical-align: top;\n",
       "    }\n",
       "\n",
       "    .dataframe thead th {\n",
       "        text-align: right;\n",
       "    }\n",
       "</style>\n",
       "<table border=\"1\" class=\"dataframe\">\n",
       "  <thead>\n",
       "    <tr style=\"text-align: right;\">\n",
       "      <th></th>\n",
       "      <th>receita_cliente</th>\n",
       "      <th>anuidade_emprestimo</th>\n",
       "      <th>anos_casa_propria</th>\n",
       "      <th>telefone_trab</th>\n",
       "      <th>avaliacao_cidade</th>\n",
       "      <th>score_1</th>\n",
       "      <th>score_2</th>\n",
       "      <th>score_3</th>\n",
       "      <th>score_social</th>\n",
       "      <th>troca_telefone</th>\n",
       "      <th>inadimplente</th>\n",
       "    </tr>\n",
       "  </thead>\n",
       "  <tbody>\n",
       "    <tr>\n",
       "      <th>0</th>\n",
       "      <td>12600.0</td>\n",
       "      <td>3569.400000</td>\n",
       "      <td>12.157324</td>\n",
       "      <td>1</td>\n",
       "      <td>2.0</td>\n",
       "      <td>0.057153</td>\n",
       "      <td>0.527227</td>\n",
       "      <td>0.513171</td>\n",
       "      <td>0.117428</td>\n",
       "      <td>2545.0</td>\n",
       "      <td>0</td>\n",
       "    </tr>\n",
       "    <tr>\n",
       "      <th>1</th>\n",
       "      <td>9000.0</td>\n",
       "      <td>2722.188351</td>\n",
       "      <td>7.000000</td>\n",
       "      <td>0</td>\n",
       "      <td>2.0</td>\n",
       "      <td>0.657661</td>\n",
       "      <td>0.285898</td>\n",
       "      <td>0.614414</td>\n",
       "      <td>0.222700</td>\n",
       "      <td>495.0</td>\n",
       "      <td>0</td>\n",
       "    </tr>\n",
       "    <tr>\n",
       "      <th>2</th>\n",
       "      <td>15750.0</td>\n",
       "      <td>4477.500000</td>\n",
       "      <td>12.000000</td>\n",
       "      <td>0</td>\n",
       "      <td>2.0</td>\n",
       "      <td>0.501213</td>\n",
       "      <td>0.695423</td>\n",
       "      <td>0.513171</td>\n",
       "      <td>0.117428</td>\n",
       "      <td>1212.0</td>\n",
       "      <td>0</td>\n",
       "    </tr>\n",
       "    <tr>\n",
       "      <th>3</th>\n",
       "      <td>9000.0</td>\n",
       "      <td>1309.050000</td>\n",
       "      <td>12.157324</td>\n",
       "      <td>0</td>\n",
       "      <td>3.0</td>\n",
       "      <td>0.501213</td>\n",
       "      <td>0.155973</td>\n",
       "      <td>0.513171</td>\n",
       "      <td>0.117428</td>\n",
       "      <td>515.0</td>\n",
       "      <td>0</td>\n",
       "    </tr>\n",
       "    <tr>\n",
       "      <th>4</th>\n",
       "      <td>7650.0</td>\n",
       "      <td>1125.000000</td>\n",
       "      <td>12.157324</td>\n",
       "      <td>0</td>\n",
       "      <td>2.0</td>\n",
       "      <td>0.294328</td>\n",
       "      <td>0.152076</td>\n",
       "      <td>0.513171</td>\n",
       "      <td>0.117428</td>\n",
       "      <td>162.0</td>\n",
       "      <td>0</td>\n",
       "    </tr>\n",
       "  </tbody>\n",
       "</table>\n",
       "</div>"
      ],
      "text/plain": [
       "   receita_cliente  anuidade_emprestimo  anos_casa_propria  telefone_trab  \\\n",
       "0          12600.0          3569.400000          12.157324              1   \n",
       "1           9000.0          2722.188351           7.000000              0   \n",
       "2          15750.0          4477.500000          12.000000              0   \n",
       "3           9000.0          1309.050000          12.157324              0   \n",
       "4           7650.0          1125.000000          12.157324              0   \n",
       "\n",
       "   avaliacao_cidade   score_1   score_2   score_3  score_social  \\\n",
       "0               2.0  0.057153  0.527227  0.513171      0.117428   \n",
       "1               2.0  0.657661  0.285898  0.614414      0.222700   \n",
       "2               2.0  0.501213  0.695423  0.513171      0.117428   \n",
       "3               3.0  0.501213  0.155973  0.513171      0.117428   \n",
       "4               2.0  0.294328  0.152076  0.513171      0.117428   \n",
       "\n",
       "   troca_telefone  inadimplente  \n",
       "0          2545.0             0  \n",
       "1           495.0             0  \n",
       "2          1212.0             0  \n",
       "3           515.0             0  \n",
       "4           162.0             0  "
      ]
     },
     "execution_count": 101,
     "metadata": {},
     "output_type": "execute_result"
    }
   ],
   "source": [
    "dados.head()"
   ]
  },
  {
   "cell_type": "code",
   "execution_count": 102,
   "metadata": {},
   "outputs": [],
   "source": [
    "x = dados.drop(\"inadimplente\", axis=1)\n",
    "y = dados[\"inadimplente\"]"
   ]
  },
  {
   "cell_type": "code",
   "execution_count": 103,
   "metadata": {},
   "outputs": [],
   "source": [
    "from sklearn.tree import DecisionTreeClassifier"
   ]
  },
  {
   "cell_type": "code",
   "execution_count": 104,
   "metadata": {},
   "outputs": [
    {
     "data": {
      "text/plain": [
       "1.0"
      ]
     },
     "execution_count": 104,
     "metadata": {},
     "output_type": "execute_result"
    }
   ],
   "source": [
    "modelo = DecisionTreeClassifier()\n",
    "modelo.fit(x, y)\n",
    "modelo.score(x, y)"
   ]
  },
  {
   "cell_type": "code",
   "execution_count": 105,
   "metadata": {},
   "outputs": [
    {
     "name": "stdout",
     "output_type": "stream",
     "text": [
      "Accuracy:  1.0\n"
     ]
    }
   ],
   "source": [
    "print(\"Accuracy: \", modelo.score(x, y))"
   ]
  },
  {
   "cell_type": "code",
   "execution_count": 106,
   "metadata": {},
   "outputs": [],
   "source": [
    "from sklearn.model_selection import train_test_split"
   ]
  },
  {
   "cell_type": "code",
   "execution_count": 107,
   "metadata": {},
   "outputs": [],
   "source": [
    "x, x_test, y, y_test = train_test_split(x, y, test_size=0.15, stratify=y, random_state=5)\n",
    "x_train, x_val, y_train, y_val = train_test_split(x, y, test_size=0.15, stratify=y, random_state=5)"
   ]
  },
  {
   "cell_type": "code",
   "execution_count": 108,
   "metadata": {},
   "outputs": [
    {
     "name": "stdout",
     "output_type": "stream",
     "text": [
      "Accuracy:  1.0\n",
      "Accuracy:  0.8472927856002322\n",
      "Accuracy:  0.846618953603159\n"
     ]
    }
   ],
   "source": [
    "modelo = DecisionTreeClassifier()\n",
    "modelo.fit(x_train, y_train)\n",
    "print(\"Accuracy: \", modelo.score(x_train, y_train))\n",
    "print(\"Accuracy: \", modelo.score(x_val, y_val))\n",
    "print(\"Accuracy: \", modelo.score(x_test, y_test))"
   ]
  },
  {
   "cell_type": "code",
   "execution_count": 109,
   "metadata": {},
   "outputs": [
    {
     "name": "stdout",
     "output_type": "stream",
     "text": [
      "Train Accuracy:  0.9207573273211723\n",
      "Validation Accuracy:  0.9059370010161126\n",
      "Test Accuracy:  0.9070829220138203\n"
     ]
    }
   ],
   "source": [
    "modelo = DecisionTreeClassifier(max_depth=10)\n",
    "modelo.fit(x_train, y_train)\n",
    "print(\"Train Accuracy: \", modelo.score(x_train, y_train))\n",
    "print(\"Validation Accuracy: \", modelo.score(x_val, y_val))\n",
    "print(\"Test Accuracy: \", modelo.score(x_test, y_test))"
   ]
  },
  {
   "cell_type": "code",
   "execution_count": 110,
   "metadata": {},
   "outputs": [],
   "source": [
    "from sklearn.metrics import confusion_matrix"
   ]
  },
  {
   "cell_type": "code",
   "execution_count": 111,
   "metadata": {},
   "outputs": [
    {
     "name": "stdout",
     "output_type": "stream",
     "text": [
      "[[6224   64]\n",
      " [ 584   17]]\n"
     ]
    }
   ],
   "source": [
    "y_predict = modelo.predict(x_val)\n",
    "cm = confusion_matrix(y_val, y_predict)\n",
    "print(cm)"
   ]
  },
  {
   "cell_type": "code",
   "execution_count": 112,
   "metadata": {},
   "outputs": [
    {
     "data": {
      "image/png": "[encoded data removed]",
      "text/plain": [
       "<Figure size 640x480 with 2 Axes>"
      ]
     },
     "metadata": {},
     "output_type": "display_data"
    }
   ],
   "source": [
    "from sklearn.metrics import ConfusionMatrixDisplay\n",
    "\n",
    "visualization = ConfusionMatrixDisplay(cm, display_labels = ['adimplente', 'inadimplente'])\n",
    "visualization.plot();"
   ]
  },
  {
   "cell_type": "code",
   "execution_count": 113,
   "metadata": {},
   "outputs": [],
   "source": [
    "from sklearn.metrics import accuracy_score"
   ]
  },
  {
   "cell_type": "code",
   "execution_count": 114,
   "metadata": {},
   "outputs": [
    {
     "name": "stdout",
     "output_type": "stream",
     "text": [
      "Accuracy: 90.59%\n"
     ]
    }
   ],
   "source": [
    "print(f'Accuracy: {accuracy_score(y_val, y_predict) * 100:.2f}%')"
   ]
  },
  {
   "cell_type": "code",
   "execution_count": 115,
   "metadata": {},
   "outputs": [],
   "source": [
    "from sklearn.metrics import precision_score, recall_score, f1_score"
   ]
  },
  {
   "cell_type": "code",
   "execution_count": 116,
   "metadata": {},
   "outputs": [
    {
     "name": "stdout",
     "output_type": "stream",
     "text": [
      "Precisão: 20.99%\n",
      "Recall: 2.83%\n",
      "F1 Score: 4.99%\n"
     ]
    }
   ],
   "source": [
    "print(f'Precisão: {precision_score(y_val, y_predict) * 100:.2f}%')\n",
    "print(f'Recall: {recall_score(y_val, y_predict) * 100:.2f}%')\n",
    "print(f'F1 Score: {f1_score(y_val, y_predict) * 100:.2f}%')"
   ]
  },
  {
   "cell_type": "code",
   "execution_count": 117,
   "metadata": {},
   "outputs": [],
   "source": [
    "from sklearn.metrics import RocCurveDisplay"
   ]
  },
  {
   "cell_type": "code",
   "execution_count": 118,
   "metadata": {},
   "outputs": [
    {
     "data": {
      "image/png": "[encoded data removed]",
      "text/plain": [
       "<Figure size 640x480 with 1 Axes>"
      ]
     },
     "metadata": {},
     "output_type": "display_data"
    }
   ],
   "source": [
    "RocCurveDisplay.from_predictions(y_val, y_predict, name='Decision Tree');"
   ]
  },
  {
   "cell_type": "code",
   "execution_count": 119,
   "metadata": {},
   "outputs": [],
   "source": [
    "from sklearn.metrics import roc_auc_score"
   ]
  },
  {
   "cell_type": "code",
   "execution_count": 120,
   "metadata": {},
   "outputs": [
    {
     "name": "stdout",
     "output_type": "stream",
     "text": [
      "ROC AUC: 50.91%\n"
     ]
    }
   ],
   "source": [
    "print(f'ROC AUC: {roc_auc_score(y_val, y_predict) * 100:.2f}%')"
   ]
  },
  {
   "cell_type": "code",
   "execution_count": 121,
   "metadata": {},
   "outputs": [],
   "source": [
    "from sklearn.metrics import PrecisionRecallDisplay"
   ]
  },
  {
   "cell_type": "code",
   "execution_count": 122,
   "metadata": {},
   "outputs": [
    {
     "data": {
      "image/png": "[encoded data removed]",
      "text/plain": [
       "<Figure size 640x480 with 1 Axes>"
      ]
     },
     "metadata": {},
     "output_type": "display_data"
    }
   ],
   "source": [
    "PrecisionRecallDisplay.from_predictions(y_val, y_predict, name='Decision Tree');"
   ]
  },
  {
   "cell_type": "code",
   "execution_count": 123,
   "metadata": {},
   "outputs": [],
   "source": [
    "from sklearn.metrics import average_precision_score"
   ]
  },
  {
   "cell_type": "code",
   "execution_count": 124,
   "metadata": {},
   "outputs": [
    {
     "name": "stdout",
     "output_type": "stream",
     "text": [
      "Average Precision: 9.07%\n"
     ]
    }
   ],
   "source": [
    "print(f'Average Precision: {average_precision_score(y_val, y_predict) * 100:.2f}%')"
   ]
  },
  {
   "cell_type": "code",
   "execution_count": 125,
   "metadata": {},
   "outputs": [],
   "source": [
    "from sklearn.metrics import classification_report"
   ]
  },
  {
   "cell_type": "code",
   "execution_count": 126,
   "metadata": {},
   "outputs": [
    {
     "name": "stdout",
     "output_type": "stream",
     "text": [
      "              precision    recall  f1-score   support\n",
      "\n",
      "           0       0.91      0.99      0.95      6288\n",
      "           1       0.21      0.03      0.05       601\n",
      "\n",
      "    accuracy                           0.91      6889\n",
      "   macro avg       0.56      0.51      0.50      6889\n",
      "weighted avg       0.85      0.91      0.87      6889\n",
      "\n"
     ]
    }
   ],
   "source": [
    "print(classification_report(y_val, y_predict))"
   ]
  },
  {
   "cell_type": "code",
   "execution_count": 127,
   "metadata": {},
   "outputs": [],
   "source": [
    "from sklearn.model_selection import cross_validate, KFold"
   ]
  },
  {
   "cell_type": "code",
   "execution_count": 128,
   "metadata": {},
   "outputs": [
    {
     "data": {
      "text/plain": [
       "{'fit_time': array([0.11966109, 0.11986256, 0.11925983, 0.12377763, 0.11638522]),\n",
       " 'score_time': array([0.00200033, 0.00200129, 0.00350714, 0.00200033, 0.00200009]),\n",
       " 'test_score': array([0.91301034, 0.9070122 , 0.90712108, 0.9135453 , 0.89884582])}"
      ]
     },
     "execution_count": 128,
     "metadata": {},
     "output_type": "execute_result"
    }
   ],
   "source": [
    "modelo = DecisionTreeClassifier(max_depth=10)\n",
    "kf = KFold(n_splits=5, shuffle=True, random_state=5)\n",
    "cv_results = cross_validate(modelo, x, y, cv=kf)\n",
    "cv_results "
   ]
  },
  {
   "cell_type": "code",
   "execution_count": 129,
   "metadata": {},
   "outputs": [
    {
     "data": {
      "text/plain": [
       "array([0.91301034, 0.9070122 , 0.90712108, 0.9135453 , 0.89884582])"
      ]
     },
     "execution_count": 129,
     "metadata": {},
     "output_type": "execute_result"
    }
   ],
   "source": [
    "cv_results['test_score']"
   ]
  },
  {
   "cell_type": "code",
   "execution_count": 130,
   "metadata": {},
   "outputs": [
    {
     "name": "stdout",
     "output_type": "stream",
     "text": [
      "Intervalo de confiança: 0.8972727435870631 - 0.918541149690683\n"
     ]
    }
   ],
   "source": [
    "media = cv_results['test_score'].mean()\n",
    "desvio_padrao = cv_results['test_score'].std()\n",
    "print(f'Intervalo de confiança: {media - 2 * desvio_padrao} - {min(media + 2 * desvio_padrao, 1)}')"
   ]
  },
  {
   "cell_type": "code",
   "execution_count": 131,
   "metadata": {},
   "outputs": [],
   "source": [
    "def intervalo_confianca(results):\n",
    "    media = results['test_score'].mean()\n",
    "    desvio_padrao = results['test_score'].std()\n",
    "    print(f'Intervalo de confiança: {media - 2 * desvio_padrao} - {min(media + 2 * desvio_padrao, 1)}')"
   ]
  },
  {
   "cell_type": "code",
   "execution_count": 132,
   "metadata": {},
   "outputs": [
    {
     "data": {
      "text/plain": [
       "{'fit_time': array([0.11814809, 0.11782217, 0.12182713, 0.11464858, 0.11609173]),\n",
       " 'score_time': array([0.00350237, 0.00299954, 0.00300789, 0.0045042 , 0.00400352]),\n",
       " 'test_score': array([0.02377807, 0.02227723, 0.0196802 , 0.01697128, 0.02543353])}"
      ]
     },
     "execution_count": 132,
     "metadata": {},
     "output_type": "execute_result"
    }
   ],
   "source": [
    "modelo = DecisionTreeClassifier(max_depth=10)\n",
    "kf = KFold(n_splits=5, shuffle=True, random_state=5)\n",
    "cv_results = cross_validate(modelo, x, y, cv=kf, scoring='recall')\n",
    "cv_results "
   ]
  },
  {
   "cell_type": "code",
   "execution_count": 133,
   "metadata": {},
   "outputs": [
    {
     "name": "stdout",
     "output_type": "stream",
     "text": [
      "Intervalo de confiança: 0.015627705867408644 - 0.027628414630144614\n"
     ]
    }
   ],
   "source": [
    "intervalo_confianca(cv_results)"
   ]
  },
  {
   "cell_type": "code",
   "execution_count": 134,
   "metadata": {},
   "outputs": [
    {
     "data": {
      "text/plain": [
       "inadimplente\n",
       "0    0.912707\n",
       "1    0.087293\n",
       "Name: proportion, dtype: float64"
      ]
     },
     "execution_count": 134,
     "metadata": {},
     "output_type": "execute_result"
    }
   ],
   "source": [
    "dados['inadimplente'].value_counts(normalize=True)"
   ]
  },
  {
   "cell_type": "code",
   "execution_count": 135,
   "metadata": {},
   "outputs": [
    {
     "data": {
      "text/plain": [
       "{'fit_time': array([0.12265992, 0.11765623, 0.11712885, 0.11712456, 0.11673999]),\n",
       " 'score_time': array([0.00302315, 0.00299931, 0.00400138, 0.00250673, 0.00300121]),\n",
       " 'test_score': array([0.03740648, 0.02746567, 0.0286783 , 0.02369077, 0.02369077])}"
      ]
     },
     "execution_count": 135,
     "metadata": {},
     "output_type": "execute_result"
    }
   ],
   "source": [
    "from sklearn.model_selection import StratifiedKFold\n",
    "\n",
    "modelo = DecisionTreeClassifier(max_depth=10)\n",
    "skf = StratifiedKFold(n_splits=5, shuffle=True, random_state=5)\n",
    "cv_results = cross_validate(modelo, x, y, cv=skf, scoring='recall')\n",
    "cv_results"
   ]
  },
  {
   "cell_type": "code",
   "execution_count": 136,
   "metadata": {},
   "outputs": [],
   "source": [
    "from imblearn.over_sampling import SMOTE"
   ]
  },
  {
   "cell_type": "code",
   "execution_count": 137,
   "metadata": {},
   "outputs": [],
   "source": [
    "oversample = SMOTE()\n",
    "x_balanced, y_balanced = oversample.fit_resample(x, y)"
   ]
  },
  {
   "cell_type": "code",
   "execution_count": 138,
   "metadata": {},
   "outputs": [
    {
     "data": {
      "text/plain": [
       "inadimplente\n",
       "0    0.5\n",
       "1    0.5\n",
       "Name: proportion, dtype: float64"
      ]
     },
     "execution_count": 138,
     "metadata": {},
     "output_type": "execute_result"
    }
   ],
   "source": [
    "y_balanced.value_counts(normalize=True)"
   ]
  },
  {
   "cell_type": "code",
   "execution_count": 139,
   "metadata": {},
   "outputs": [
    {
     "name": "stdout",
     "output_type": "stream",
     "text": [
      "Intervalo de confiança: 0.7129605852691002 - 0.738843623706963\n"
     ]
    }
   ],
   "source": [
    "modelo = DecisionTreeClassifier(max_depth=10)\n",
    "skf = StratifiedKFold(n_splits=5, shuffle=True, random_state=5)\n",
    "cv_results = cross_validate(modelo, x_balanced, y_balanced, cv=skf, scoring='recall')\n",
    "\n",
    "intervalo_confianca(cv_results)"
   ]
  },
  {
   "cell_type": "code",
   "execution_count": 140,
   "metadata": {},
   "outputs": [],
   "source": [
    "from imblearn.pipeline import Pipeline as imbpipeline"
   ]
  },
  {
   "cell_type": "code",
   "execution_count": 141,
   "metadata": {},
   "outputs": [],
   "source": [
    "modelo = DecisionTreeClassifier(max_depth=10)\n",
    "pipeline = imbpipeline([('oversample', SMOTE()), ('arvore', modelo)])"
   ]
  },
  {
   "cell_type": "code",
   "execution_count": 142,
   "metadata": {},
   "outputs": [],
   "source": [
    "sfk = StratifiedKFold(n_splits=5, shuffle=True, random_state=5)\n",
    "cv_results = cross_validate(pipeline, x, y, cv=skf, scoring='recall')\n"
   ]
  },
  {
   "cell_type": "code",
   "execution_count": 143,
   "metadata": {},
   "outputs": [
    {
     "name": "stdout",
     "output_type": "stream",
     "text": [
      "Intervalo de confiança: 0.1997357836400652 - 0.3200901197662131\n"
     ]
    }
   ],
   "source": [
    "intervalo_confianca(cv_results)"
   ]
  },
  {
   "cell_type": "code",
   "execution_count": 144,
   "metadata": {},
   "outputs": [],
   "source": [
    "from imblearn.under_sampling import NearMiss"
   ]
  },
  {
   "cell_type": "code",
   "execution_count": 159,
   "metadata": {},
   "outputs": [
    {
     "data": {
      "text/plain": [
       "{'fit_time': array([0.10208011, 0.10308027, 0.10258412, 0.10107398, 0.10008025]),\n",
       " 'score_time': array([0.00300026, 0.00300002, 0.00300407, 0.00300026, 0.00350809]),\n",
       " 'test_score': array([0.680798  , 0.62421973, 0.67206983, 0.67581047, 0.65336658])}"
      ]
     },
     "execution_count": 159,
     "metadata": {},
     "output_type": "execute_result"
    }
   ],
   "source": [
    "modelo = DecisionTreeClassifier(max_depth=10)\n",
    "pipeline = imbpipeline([('undersample', NearMiss(version=3)), ('arvore', modelo)])\n",
    "sfk = StratifiedKFold(n_splits=5, shuffle=True, random_state=5)\n",
    "cv_results = cross_validate(pipeline, x, y, cv=skf, scoring='recall')\n",
    "cv_results"
   ]
  },
  {
   "cell_type": "code",
   "execution_count": 146,
   "metadata": {},
   "outputs": [
    {
     "name": "stdout",
     "output_type": "stream",
     "text": [
      "Intervalo de confiança: 0.6234251677689584 - 0.6960887814404151\n"
     ]
    }
   ],
   "source": [
    "intervalo_confianca(cv_results)"
   ]
  },
  {
   "cell_type": "code",
   "execution_count": 154,
   "metadata": {},
   "outputs": [
    {
     "name": "stdout",
     "output_type": "stream",
     "text": [
      "Classification Report: \n",
      "              precision    recall  f1-score   support\n",
      "\n",
      "           0       0.94      0.48      0.64      7397\n",
      "           1       0.11      0.70      0.20       707\n",
      "\n",
      "    accuracy                           0.50      8104\n",
      "   macro avg       0.53      0.59      0.42      8104\n",
      "weighted avg       0.87      0.50      0.60      8104\n",
      "\n"
     ]
    },
    {
     "data": {
      "image/png": "[encoded data removed]",
      "text/plain": [
       "<Figure size 640x480 with 2 Axes>"
      ]
     },
     "metadata": {},
     "output_type": "display_data"
    }
   ],
   "source": [
    "undersample = NearMiss(version=3)\n",
    "x_balanced, y_balanced = undersample.fit_resample(x, y)\n",
    "\n",
    "modelo = DecisionTreeClassifier(max_depth=10)\n",
    "modelo.fit(x_balanced, y_balanced)\n",
    "\n",
    "y_predict = modelo.predict(x_test)\n",
    "\n",
    "print(f'Classification Report: \\n{classification_report(y_test, y_predict)}')\n",
    "ConfusionMatrixDisplay.from_predictions(y_test, y_predict, display_labels=['adimplente', 'inadimplente']);"
   ]
  },
  {
   "cell_type": "code",
   "execution_count": 157,
   "metadata": {},
   "outputs": [],
   "source": [
    "from imblearn.combine import SMOTEENN\n"
   ]
  },
  {
   "cell_type": "code",
   "execution_count": 158,
   "metadata": {},
   "outputs": [
    {
     "name": "stdout",
     "output_type": "stream",
     "text": [
      "Intervalo de confiança: 0.24259733916343823 - 0.4184329814146422\n"
     ]
    }
   ],
   "source": [
    "modelo = DecisionTreeClassifier(max_depth=10)\n",
    "pipeline = imbpipeline([('combine', SMOTEENN()), ('arvore', modelo)])\n",
    "sfk = StratifiedKFold(n_splits=5, shuffle=True, random_state=5)\n",
    "cv_results = cross_validate(pipeline, x, y, cv=skf, scoring='recall')\n",
    "intervalo_confianca(cv_results)"
   ]
  },
  {
   "cell_type": "code",
   "execution_count": 162,
   "metadata": {},
   "outputs": [
    {
     "data": {
      "text/plain": [
       "inadimplente\n",
       "0    49309\n",
       "1     4716\n",
       "Name: count, dtype: int64"
      ]
     },
     "execution_count": 162,
     "metadata": {},
     "output_type": "execute_result"
    }
   ],
   "source": [
    "dados['inadimplente'].value_counts()"
   ]
  }
 ],
 "metadata": {
  "kernelspec": {
   "display_name": "Python 3",
   "language": "python",
   "name": "python3"
  },
  "language_info": {
   "codemirror_mode": {
    "name": "ipython",
    "version": 3
   },
   "file_extension": ".py",
   "mimetype": "text/x-python",
   "name": "python",
   "nbconvert_exporter": "python",
   "pygments_lexer": "ipython3",
   "version": "3.12.2"
  }
 },
 "nbformat": 4,
 "nbformat_minor": 2
}
