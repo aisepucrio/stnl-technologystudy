{
 "cells": [
  {
   "cell_type": "code",
   "execution_count": 29,
   "metadata": {},
   "outputs": [],
   "source": [
    "import tensorflow as tf\n",
    "import numpy as np"
   ]
  },
  {
   "cell_type": "code",
   "execution_count": 6,
   "metadata": {},
   "outputs": [
    {
     "name": "stdout",
     "output_type": "stream",
     "text": [
      "tf.Tensor(b'Ola mundo!', shape=(), dtype=string)\n"
     ]
    }
   ],
   "source": [
    "frase = tf.constant(\"Ola mundo!\")\n",
    "print(frase)"
   ]
  },
  {
   "cell_type": "code",
   "execution_count": 15,
   "metadata": {},
   "outputs": [
    {
     "name": "stdout",
     "output_type": "stream",
     "text": [
      "Ola mundo!\n"
     ]
    }
   ],
   "source": [
    "#tf.Session().run(frase)\n",
    "print(frase.numpy().decode('utf-8'))"
   ]
  },
  {
   "cell_type": "code",
   "execution_count": 28,
   "metadata": {},
   "outputs": [
    {
     "name": "stdout",
     "output_type": "stream",
     "text": [
      "tf.Tensor(5, shape=(), dtype=int32)\n",
      "5\n",
      "15\n",
      "dimensoes:\n",
      "()\n",
      "(5,)\n",
      "(2, 2)\n"
     ]
    }
   ],
   "source": [
    "a = tf.constant(5)\n",
    "print(a)\n",
    "print(a.numpy())\n",
    "\n",
    "b = tf.constant(3)\n",
    "\n",
    "c=tf.multiply(a, b)\n",
    "print(c.numpy())\n",
    "\n",
    "# Os cálculos são organizados em grafos\n",
    "# No tensorflow 1.0, era necessario criar uma session e executar (run). Antes, você criava os grafos de operações\n",
    "# e depois tinha que executar esse grafo. Agora a execução é imediata (ager Execution). Não é necessário Session.\n",
    "\n",
    "# O QUE É UM TENSOR?\n",
    "# É uma matriz de numeros organizados em uma grade regular com um numero variável de eixos\n",
    "# Podem ser 0-dimensional (escalar), 1-dimensional (array), 2-dimensional (matrtiz)\n",
    "# Um tensor pode ter n dimensões, para representar imagens, usamos um tensor 4D, para representar o canal de cor(RGB)\n",
    "\n",
    "dim1 = tf.constant(10)\n",
    "dim2 = tf.constant([1, 2, 3, 4, 5])\n",
    "dim3 = tf.constant([[1, 2], [3, 4]])\n",
    "print(\"dimensoes:\")\n",
    "print(dim1.shape)\n",
    "print(dim2.shape)\n",
    "print(dim3.shape)\n",
    "\n",
    "tensor = tf.random_normal_initializer((4, 2), 0, 1)\n",
    "# Cria matriz (tensor) de 4 lin, 2 col, distribuição normal de media 0 e desvio padrão 1\n",
    "\n"
   ]
  },
  {
   "cell_type": "code",
   "execution_count": 32,
   "metadata": {},
   "outputs": [],
   "source": [
    "# O QUE SÃO PLACEHOLDERS?\n",
    "# Espaço reservado (uma variavel vazia) para entrada de dados futuramente\n",
    "# No momento do treinamento, podemos dividir nossos dados em pacotes para um treino mais rápido. \n",
    "# Esses pacotes são preenchidos um de cada vez. Eles são os placeholders.\n",
    "\n",
    "# EXEMPLO\n",
    "\n",
    "#Meu banco de dados simulado pelo numpy\n",
    "dados_x = np.random.randn(4, 8)\n",
    "dados_y = np.random.randn(8,2)\n",
    "\n",
    "placeH_x = tf.placeholder(tf.float32, shape=(4, 8))\n",
    "placeH_y = tf.placeholder(tf.float32, shape=(8,2))\n",
    "# Aqui estou criando meus placeHolders para inserir meus dados (dados_x e dados_y)\n",
    "\n",
    "# OS PLACEHOLDERS NAO SAO MAIS UTILIZADOS DEVIDO AO AGER EXECUTION"
   ]
  },
  {
   "cell_type": "code",
   "execution_count": null,
   "metadata": {},
   "outputs": [],
   "source": []
  }
 ],
 "metadata": {
  "kernelspec": {
   "display_name": "Python 3",
   "language": "python",
   "name": "python3"
  },
  "language_info": {
   "codemirror_mode": {
    "name": "ipython",
    "version": 3
   },
   "file_extension": ".py",
   "mimetype": "text/x-python",
   "name": "python",
   "nbconvert_exporter": "python",
   "pygments_lexer": "ipython3",
   "version": "3.11.9"
  }
 },
 "nbformat": 4,
 "nbformat_minor": 2
}
