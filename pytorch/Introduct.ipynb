{
 "cells": [
  {
   "metadata": {},
   "cell_type": "markdown",
   "source": [
    "# Firstly, let's create the developer setup\n",
    "\n",
    "> - Create a venv (tutorial on AISE GitHub)\n",
    "> - Initiate the Venv\n",
    "> - Install the pytorch, follow this link(https://pytorch.org/get-started/locally/) steps\n",
    "> - With all set, let's start with numpy"
   ],
   "id": "815cedabe4cdcc1b"
  },
  {
   "metadata": {},
   "cell_type": "markdown",
   "source": "## 1. Generating the data",
   "id": "b0466a200b1c2c17"
  },
  {
   "metadata": {},
   "cell_type": "code",
   "source": [
    "import numpy as np\n",
    "import matplotlib.pyplot as plt\n",
    "import torch\n",
    "from torch import nn\n",
    "from sklearn.model_selection import train_test_split\n",
    "\n",
    "#Check version\n",
    "torch.__version__"
   ],
   "id": "initial_id",
   "outputs": [],
   "execution_count": null
  },
  {
   "metadata": {},
   "cell_type": "markdown",
   "source": "$ Y = aX + b = weightX + bias$. ",
   "id": "a679e7e0c2113847"
  },
  {
   "metadata": {},
   "cell_type": "code",
   "source": [
    "weight = 0.4\n",
    "bias = 0.2\n",
    "\n",
    "start = 0\n",
    "end = 1\n",
    "step = 0.03\n",
    "\n",
    "X = np.arange(start,end,step).astype(np.float32)\n",
    "Y = X*weight+bias\n",
    "Y = Y.astype(np.float32) "
   ],
   "id": "f4dcbd578aff1e72",
   "outputs": [],
   "execution_count": null
  },
  {
   "metadata": {},
   "cell_type": "markdown",
   "source": [
    "### *Now transform the data into Pytorch tensors and separate the data into test and train*\n",
    "\n",
    "> - train test (https://scikit-learn.org/stable/modules/generated/sklearn.model_selection.train_test_split.html)\n",
    "> - tensor in pytorch (https://pytorch.org/docs/stable/generated/torch.from_numpy.html)"
   ],
   "id": "f8fa4744fb09a582"
  },
  {
   "metadata": {},
   "cell_type": "code",
   "source": "# Transform the data here\n",
   "id": "6f26a01d72f41621",
   "outputs": [],
   "execution_count": null
  },
  {
   "metadata": {},
   "cell_type": "code",
   "source": "# Split the data here\n",
   "id": "663471e2bc538130",
   "outputs": [],
   "execution_count": null
  },
  {
   "metadata": {},
   "cell_type": "markdown",
   "source": [
    "#### Some important questions\n",
    "> - What is the pattern of the problem's structure? Is it linear or non-linear?\n",
    "> - What is the difference between a tensor and an array?\n",
    "> - You try to plot the data? **(use a scatter plot)**\n",
    "> - You try to plot the train and the test with different colors?\n",
    "-------"
   ],
   "id": "cb4879417704d39a"
  },
  {
   "metadata": {},
   "cell_type": "markdown",
   "source": [
    "## 2. Build Your first model\n",
    "\n",
    ">- It's important to understand Object orientation OOP"
   ],
   "id": "fb270c9e7c95fc91"
  },
  {
   "metadata": {},
   "cell_type": "code",
   "source": [
    "class Net(nn.Module):\n",
    "    def __init__(self):\n",
    "        super().__init__()\n",
    "        \n",
    "    def forward(self, x: torch.Tensor) -> torch.Tensor:\n",
    "        return self.input(x)\n",
    "    \n",
    "model = Net()"
   ],
   "id": "742ffc9199a56f5a",
   "outputs": [],
   "execution_count": null
  },
  {
   "metadata": {},
   "cell_type": "markdown",
   "source": [
    "### 3. Define the loss function and the optimizer\n",
    "\n",
    "> - Define a loss function and an optimizer \n",
    "> - Try to play with the parameters and change the functions\n",
    "> - Challenge: Get a better result only using 200 epochs or fewer"
   ],
   "id": "b9f133b37a0cc3e5"
  },
  {
   "metadata": {},
   "cell_type": "code",
   "source": [
    "loss_function = nn.L1Loss()\n",
    "optimizer = torch.optim.SGD(model.parameters(), lr=0.001, momentum=0.8)"
   ],
   "id": "fc30330a03e8af62",
   "outputs": [],
   "execution_count": null
  },
  {
   "metadata": {},
   "cell_type": "markdown",
   "source": [
    "### 4. Make a train loop (This is a very simple step, in the majority of time there are no difference in this step)\n",
    "*Write the definition of each of this functions*\n",
    ">- model.train() ->\n",
    ">- optimizer.zero_grad() ->\n",
    ">- loss.backward() ->\n",
    ">- optimizer.step() ->"
   ],
   "id": "f884a0dc6b62a4da"
  },
  {
   "metadata": {},
   "cell_type": "code",
   "source": "#",
   "id": "3e2be14a2f599ca6",
   "outputs": [],
   "execution_count": null
  },
  {
   "metadata": {},
   "cell_type": "markdown",
   "source": "*test your result here*:",
   "id": "8eafebe2d007c9c6"
  },
  {
   "metadata": {},
   "cell_type": "code",
   "source": [
    "with torch.inference_mode():\n",
    "    y_pred = model(x_test)\n",
    "    print(loss_function(y_pred, y_test).item())"
   ],
   "id": "c1a642bcec16c572",
   "outputs": [],
   "execution_count": null
  },
  {
   "metadata": {},
   "cell_type": "markdown",
   "source": [
    "### Now try to plot the x_train, y_train/ x_test, y_test/ x_test, y_pred with a different color\n",
    "*Use scatter*"
   ],
   "id": "a2125e3deb0c5552"
  },
  {
   "metadata": {},
   "cell_type": "code",
   "source": "",
   "id": "5ddf95642acb0565",
   "outputs": [],
   "execution_count": null
  },
  {
   "metadata": {},
   "cell_type": "markdown",
   "source": [
    "### Save your model\n",
    "- ***This save is important to test your answers***"
   ],
   "id": "9c4b2a150656b3e9"
  },
  {
   "metadata": {},
   "cell_type": "code",
   "source": "",
   "id": "eeb0406e44aca2d2",
   "outputs": [],
   "execution_count": null
  },
  {
   "metadata": {},
   "cell_type": "markdown",
   "source": [
    "# Now let's try a new type of data\n",
    "> - Repeat the same steps of the first one"
   ],
   "id": "a686f5927c9789a1"
  },
  {
   "metadata": {},
   "cell_type": "code",
   "source": [
    "from sklearn.datasets import make_circles\n",
    "\n",
    "n_samples = 500\n",
    "\n",
    "X, y = make_circles(n_samples=n_samples,\n",
    "                    noise=0.02,\n",
    "                    random_state=42\n",
    "                    )"
   ],
   "id": "db20fac8b5920e51",
   "outputs": [],
   "execution_count": null
  },
  {
   "metadata": {},
   "cell_type": "code",
   "source": [
    "import pandas as pd\n",
    "\n",
    "df = pd.DataFrame({\"x\": X[:,0], \"y\": X[:,1], \"label\": y})\n",
    "df"
   ],
   "id": "63158345d82f80a7",
   "outputs": [],
   "execution_count": null
  },
  {
   "metadata": {},
   "cell_type": "markdown",
   "source": [
    "## Plot the data\n",
    "> - annotate here what you find about the data \n",
    "\n",
    "***Tip***: utilize the parameters (c=y, cmap=plt.cm.RdYlBu) to separate the data in the plot"
   ],
   "id": "c0437cb527c923ad"
  },
  {
   "metadata": {},
   "cell_type": "code",
   "source": "",
   "id": "6503bf4422b68f88",
   "outputs": [],
   "execution_count": null
  },
  {
   "metadata": {},
   "cell_type": "markdown",
   "source": [
    "# Now let's try a real data example\n",
    "the target is the column \"Survived\""
   ],
   "id": "7254e7c66bc96948"
  },
  {
   "metadata": {},
   "cell_type": "code",
   "source": [
    "import pandas as pd\n",
    "url = 'https://web.stanford.edu/class/archive/cs/cs109/cs109.1166/stuff/titanic.csv'\n",
    "df = pd.read_csv(url)\n",
    "\n",
    "# Show only the first lines of the dataset\n"
   ],
   "id": "5d694bce1a64d05a",
   "outputs": [],
   "execution_count": null
  },
  {
   "metadata": {},
   "cell_type": "markdown",
   "source": [
    "## The first step here is clean the data\n",
    "**point your finds below**"
   ],
   "id": "798198ae5840a362"
  },
  {
   "metadata": {},
   "cell_type": "code",
   "source": "",
   "id": "6461684da49948e3",
   "outputs": [],
   "execution_count": null
  },
  {
   "metadata": {},
   "cell_type": "markdown",
   "source": [
    "## Make some plots, and try to notice something, if so, put the finds here\n",
    "> -"
   ],
   "id": "9fe220fac0219370"
  },
  {
   "metadata": {},
   "cell_type": "code",
   "source": "",
   "id": "d84648fb77992871",
   "outputs": [],
   "execution_count": null
  },
  {
   "metadata": {},
   "cell_type": "markdown",
   "source": "## separate data into training and testing",
   "id": "7eea55bcaf00bbb4"
  },
  {
   "metadata": {},
   "cell_type": "code",
   "source": "",
   "id": "5b7c25e71c190d95",
   "outputs": [],
   "execution_count": null
  },
  {
   "metadata": {},
   "cell_type": "markdown",
   "source": "## Finish the model",
   "id": "f86cce726702e4ac"
  },
  {
   "metadata": {},
   "cell_type": "code",
   "source": "",
   "id": "322727576c29e505",
   "outputs": [],
   "execution_count": null
  }
 ],
 "metadata": {
  "kernelspec": {
   "display_name": "Python 3",
   "language": "python",
   "name": "python3"
  },
  "language_info": {
   "codemirror_mode": {
    "name": "ipython",
    "version": 2
   },
   "file_extension": ".py",
   "mimetype": "text/x-python",
   "name": "python",
   "nbconvert_exporter": "python",
   "pygments_lexer": "ipython2",
   "version": "2.7.6"
  }
 },
 "nbformat": 4,
 "nbformat_minor": 5
}
